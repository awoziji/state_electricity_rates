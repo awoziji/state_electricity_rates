{
 "cells": [
  {
   "cell_type": "markdown",
   "metadata": {},
   "source": [
    "# Statistical Analysis of Rate Increases"
   ]
  },
  {
   "cell_type": "markdown",
   "metadata": {},
   "source": [
    "Our hypothesis is that the electricity rates in coal-heavy Appalachian states have been increasing at a (statistically) faster rate than in other US states. Presumably, states that have pivoted to renewables and gas have had more stable rates.\n",
    "\n",
    "To test this hypothesis, we want to see if there is a correlation between coal consumption and electricity rates over time, using a time-series regression."
   ]
  },
  {
   "cell_type": "markdown",
   "metadata": {},
   "source": [
    "## Regional Trends"
   ]
  },
  {
   "cell_type": "markdown",
   "metadata": {},
   "source": [
    "First, we visually inspect the rate trends. Different regions of the country experienced characteristic patterns of rate changes since 2003. We can cluster the states into 8 regions below:"
   ]
  },
  {
   "cell_type": "markdown",
   "metadata": {},
   "source": [
    "![](figs/regions/newengland.png)\n",
    "\n",
    "The New England states generally experienced a large spike in rates around 2009, followed by a steady decline, then another spike around 2014 (possibly due to unstable gas prices?)."
   ]
  },
  {
   "cell_type": "markdown",
   "metadata": {},
   "source": [
    "![](figs/regions/midatlantic.png)\n",
    "\n",
    "Maryland, Virginia, and DC saw huge rate increases from 2004-2009, while the other Mid-Atlantic states have been steadily increasing."
   ]
  },
  {
   "cell_type": "markdown",
   "metadata": {},
   "source": [
    "![](figs/regions/appalachia.png)\n",
    "\n",
    "The Appalachian states saw a price spike in 2009, followed by steady increase till today."
   ]
  },
  {
   "cell_type": "markdown",
   "metadata": {},
   "source": [
    "![adsf](figs/regions/greatlakes.png)\n",
    "\n",
    "The Great Lakes region (eastern Midwest) experienced a smaller spike in 2009, followed by various fluctuations. "
   ]
  },
  {
   "cell_type": "markdown",
   "metadata": {},
   "source": [
    "![](figs/regions/greatplains.png)\n",
    "\n",
    "The Great Plains states (western Midwest) have very similar rates, steadily increasing since 2003."
   ]
  },
  {
   "cell_type": "markdown",
   "metadata": {},
   "source": [
    "![](figs/regions/southerngas.png)\n",
    "\n",
    "Gulf Coast/Southeast states saw two spikes: first in 2006 and then in 2009. These are all states where gas comprises the majority of their electricity generation. Curiously Texas has seen a steady decline since 2009."
   ]
  },
  {
   "cell_type": "markdown",
   "metadata": {},
   "source": [
    "![](figs/regions/mountain.png)\n",
    "\n",
    "The Mountain states have all seen rate increases over time, except for Nevada, perhaps due to their switch from coal to natural gas (investigate further)."
   ]
  },
  {
   "cell_type": "markdown",
   "metadata": {},
   "source": [
    "![](figs/regions/pacific.png)\n",
    "\n",
    "Pacific states (excluding Hawaii) have seen gradual rate increases with few fluctuations. PNW states have low rates due to hydro."
   ]
  },
  {
   "cell_type": "markdown",
   "metadata": {},
   "source": [
    "## Average Rate Increases"
   ]
  },
  {
   "cell_type": "markdown",
   "metadata": {},
   "source": [
    "As a simple initial analysis, we use linear regression to find the average change in electricity rates in each state. For some states (mid-Atlantic), a linear fit is clearly a poor choice for modeling rate trends. Nonetheless, it provides a reasonable first approximation of the magnitude of rate increases in each state.\n",
    "\n",
    "We choose to constrain the time period to 2009-onward, to avoid any influence from the 2008 recession and focus on recent uptake of renewables. 35 of the 50 states have R^2 values >0.6."
   ]
  },
  {
   "cell_type": "markdown",
   "metadata": {},
   "source": [
    "Below we plot the average change in electricity rates vs. % coal generation for each state in 2018:\n",
    "\n",
    "![](figs/coal_vs_rate_change.png)\n",
    "\n",
    "Generally, our coal-heavy states (at the top) tend to have higher rate increases (towards the right) than the rest of the US.\n",
    "\n",
    "The p-value for this correlation is <0.05, which suggests there is a statistically significant correlation between rate increases and coal generation. Take this with a grain of salt, however, as the linear regressions used to generate the average rate changes may not be accurate.\n",
    "\n",
    "Ignoring the states with unique circumstances (Alaska, California), there are some notable exceptions to this trend:\n",
    "* South Dakota is replacing coal with wind, but still has higher rate increases than North Dakota\n",
    "* Wind is also replacing the dominant generation source in the following states, but rates are still increasing: Minnesota (replacing coal), Idaho (replacing hydro), and Nebraska (replacing nuclear)\n",
    "* Kansas and Massachusetts are replacing coal with gas, but still high rate increases.\n",
    "\n",
    "The states with the lowest rate increases are the New England, mid-Atlantic, and southern states. That seems to make a compelling case for gas."
   ]
  },
  {
   "cell_type": "markdown",
   "metadata": {},
   "source": [
    "## Time Series Regression"
   ]
  },
  {
   "cell_type": "markdown",
   "metadata": {},
   "source": [
    "The next step (IN PROGRESS) is to identify if changes in electricity rates are correlated with changes in generation mix, on a year-by-year basis. This would allow us to determine if, for example, shuttering coal for natural gas stabilizes rates, while increasing renewables has little effect. \n",
    "\n",
    "In other words: instead of just comparing the *average* rate change with the *2018* coal generation, I want to determine if the *time series* of rates (2009-2018) can be predicted by the *time series* of coal generation (2009-2018), as well as other generation sources.\n",
    "\n",
    "This was inspired by the generation mix visualizations published last December in the [NYTimes](https://www.nytimes.com/interactive/2018/12/24/climate/how-electricity-generation-changed-in-your-state.html) (below). The data source is [here](https://www.eia.gov/electricity/data/state/annual_generation_state.xls), and is ingested into a dataframe in generation_mix.py.\n",
    "\n",
    "![](figs/nytimes_iowa.png)\n",
    "\n",
    "The next step is to implement a time-series regression to determine the predictive power of coal and other generation sources in predicting rate changes. We choose to use non-linear, neural network [MLPRegressor](https://scikit-learn.org/stable/modules/generated/sklearn.neural_network.MLPRegressor.html) in Python's scikit-learn package to accommodate the nonlinear interactions of rate changes.\n",
    "\n",
    "The predictor variables (coal generation, hydro, renewables, etc) need to be scaled and standardized, and a training set must be selected. If the model will be used to forecast future rate changes, the model should be cross-validated using different sets of train/test splits. More important than forecasting, however, is just determining the predictive power of coal generation in predicting rate increases."
   ]
  },
  {
   "cell_type": "markdown",
   "metadata": {},
   "source": [
    "## Specific Case Studies"
   ]
  },
  {
   "cell_type": "markdown",
   "metadata": {},
   "source": [
    "I began to take some qualitiative notes on how the generation mix appears to be changing in each state. States are listed in order of rate increase (highest first).\n",
    "* Coal > wind indicates that coal is historically dominant, but wind share is increasing. \n",
    "* __ indicates states with consistently high coal\n",
    "* ++ indicates states with historically high coal but transitioning. \n",
    "\n",
    "After performing statistical analysis on all 50 states, I want to look at specific states, or pairs of neighboring states, to compare:\n",
    "* Are Illinois / Iowa doing better than the neighboring Appalachian states due to fuel diversification / deregulation?\n",
    "* Is natural gas currently having the lowest rate impact on customers? How does this correlate with gas prices, and how can we predict this will change if gas prices surge?"
   ]
  },
  {
   "cell_type": "raw",
   "metadata": {},
   "source": [
    "Since 2009:\n",
    "\n",
    "Alaska                  0.046215     steady gas\n",
    "Rhode Island            0.035602    ** natural gas\n",
    "California              0.027813     more solar and hydro since 14\n",
    "South Dakota            0.026891     coal > wind\n",
    "Kansas                  0.026227     coal > gas\n",
    "Massachusetts           0.025812     coal > gas\n",
    "++North Dakota            0.025721     high coal > wind\n",
    "++Missouri                0.024598     coal steady\n",
    "++Wyoming                 0.024359     high coal > wind\n",
    "Minnesota               0.023978     coal > gas + wind\n",
    "Idaho                   0.022057     hydro > gas + wind\n",
    "++Utah                    0.021161     high coal > gas\n",
    "Nebraska                0.020981     nuclear > wind (high coal)\n",
    "__Indiana                 0.020727     mostly coal > gas\n",
    "__Kentucky                0.020340     mostly coal > gas\n",
    "__West Virginia           0.019396   mostly coal steady\n",
    "Vermont                 0.016922\n",
    "Iowa                    0.016397     coal > wind\n",
    "Wisconsin               0.016377\n",
    "Montana                 0.016150     coal > hydro\n",
    "Michigan                0.015768\n",
    "Oregon                  0.015261\n",
    "New Hampshire           0.015171\n",
    "South Carolina          0.015105\n",
    "New Mexico              0.013813     high coal > gas + wind\n",
    "Washington              0.012394\n",
    "Arizona                 0.012371     coal > gas\n",
    "Colorado                0.012161     coal > wind\n",
    "Ohio                    0.010028     high coal > gas\n",
    "Alabama                 0.009126\n",
    "Tennessee               0.009120\n",
    "North Carolina          0.007744\n",
    "Arkansas                0.007283     coal > gas\n",
    "Georgia                 0.007145\n",
    "Connecticut             0.006620     nuclear > gas\n",
    "Mississippi             0.006199\n",
    "Oklahoma                0.006163\n",
    "Virginia                0.005316\n",
    "Maine                   0.003806\n",
    "Illinois                0.003422\n",
    "Pennsylvania            0.002697\n",
    "Louisiana               0.000967\n",
    "Hawaii                  0.000397\n",
    "Florida                -0.005638\n",
    "Maryland               -0.006987\n",
    "Nevada                 -0.010703     huge transition coal > gas\n",
    "Delaware               -0.010720     coal > gas massive\n",
    "New Jersey             -0.013089\n",
    "New York               -0.014422\n",
    "Texas                  -0.014919\n",
    "District of Columbia   -0.018207"
   ]
  }
 ],
 "metadata": {
  "kernelspec": {
   "display_name": "Python 3",
   "language": "python",
   "name": "python3"
  },
  "language_info": {
   "codemirror_mode": {
    "name": "ipython",
    "version": 3
   },
   "file_extension": ".py",
   "mimetype": "text/x-python",
   "name": "python",
   "nbconvert_exporter": "python",
   "pygments_lexer": "ipython3",
   "version": "3.7.1"
  }
 },
 "nbformat": 4,
 "nbformat_minor": 2
}
